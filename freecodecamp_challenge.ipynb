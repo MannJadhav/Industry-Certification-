{
  "nbformat": 4,
  "nbformat_minor": 0,
  "metadata": {
    "colab": {
      "provenance": [],
      "authorship_tag": "ABX9TyOqUa35VHICYN4kH2Hl3UWX",
      "include_colab_link": true
    },
    "kernelspec": {
      "name": "python3",
      "display_name": "Python 3"
    },
    "language_info": {
      "name": "python"
    }
  },
  "cells": [
    {
      "cell_type": "markdown",
      "metadata": {
        "id": "view-in-github",
        "colab_type": "text"
      },
      "source": [
        "<a href=\"https://colab.research.google.com/github/MannJadhav/Industry-Certification-/blob/main/freecodecamp_challenge.ipynb\" target=\"_parent\"><img src=\"https://colab.research.google.com/assets/colab-badge.svg\" alt=\"Open In Colab\"/></a>"
      ]
    },
    {
      "cell_type": "code",
      "execution_count": null,
      "metadata": {
        "colab": {
          "base_uri": "https://localhost:8080/",
          "height": 896
        },
        "id": "RVk_fP3PUst6",
        "outputId": "09e4924e-0ce5-4caf-d0c6-1f52ec987d98"
      },
      "outputs": [
        {
          "output_type": "stream",
          "name": "stderr",
          "text": [
            "/usr/local/lib/python3.12/dist-packages/keras/src/layers/core/embedding.py:97: UserWarning: Argument `input_length` is deprecated. Just remove it.\n",
            "  warnings.warn(\n"
          ]
        },
        {
          "output_type": "display_data",
          "data": {
            "text/plain": [
              "\u001b[1mModel: \"sequential\"\u001b[0m\n"
            ],
            "text/html": [
              "<pre style=\"white-space:pre;overflow-x:auto;line-height:normal;font-family:Menlo,'DejaVu Sans Mono',consolas,'Courier New',monospace\"><span style=\"font-weight: bold\">Model: \"sequential\"</span>\n",
              "</pre>\n"
            ]
          },
          "metadata": {}
        },
        {
          "output_type": "display_data",
          "data": {
            "text/plain": [
              "┏━━━━━━━━━━━━━━━━━━━━━━━━━━━━━━━━━┳━━━━━━━━━━━━━━━━━━━━━━━━┳━━━━━━━━━━━━━━━┓\n",
              "┃\u001b[1m \u001b[0m\u001b[1mLayer (type)                   \u001b[0m\u001b[1m \u001b[0m┃\u001b[1m \u001b[0m\u001b[1mOutput Shape          \u001b[0m\u001b[1m \u001b[0m┃\u001b[1m \u001b[0m\u001b[1m      Param #\u001b[0m\u001b[1m \u001b[0m┃\n",
              "┡━━━━━━━━━━━━━━━━━━━━━━━━━━━━━━━━━╇━━━━━━━━━━━━━━━━━━━━━━━━╇━━━━━━━━━━━━━━━┩\n",
              "│ embedding (\u001b[38;5;33mEmbedding\u001b[0m)           │ ?                      │   \u001b[38;5;34m0\u001b[0m (unbuilt) │\n",
              "├─────────────────────────────────┼────────────────────────┼───────────────┤\n",
              "│ lstm (\u001b[38;5;33mLSTM\u001b[0m)                     │ ?                      │   \u001b[38;5;34m0\u001b[0m (unbuilt) │\n",
              "├─────────────────────────────────┼────────────────────────┼───────────────┤\n",
              "│ dense (\u001b[38;5;33mDense\u001b[0m)                   │ ?                      │   \u001b[38;5;34m0\u001b[0m (unbuilt) │\n",
              "├─────────────────────────────────┼────────────────────────┼───────────────┤\n",
              "│ dropout (\u001b[38;5;33mDropout\u001b[0m)               │ ?                      │             \u001b[38;5;34m0\u001b[0m │\n",
              "├─────────────────────────────────┼────────────────────────┼───────────────┤\n",
              "│ dense_1 (\u001b[38;5;33mDense\u001b[0m)                 │ ?                      │   \u001b[38;5;34m0\u001b[0m (unbuilt) │\n",
              "└─────────────────────────────────┴────────────────────────┴───────────────┘\n"
            ],
            "text/html": [
              "<pre style=\"white-space:pre;overflow-x:auto;line-height:normal;font-family:Menlo,'DejaVu Sans Mono',consolas,'Courier New',monospace\">┏━━━━━━━━━━━━━━━━━━━━━━━━━━━━━━━━━┳━━━━━━━━━━━━━━━━━━━━━━━━┳━━━━━━━━━━━━━━━┓\n",
              "┃<span style=\"font-weight: bold\"> Layer (type)                    </span>┃<span style=\"font-weight: bold\"> Output Shape           </span>┃<span style=\"font-weight: bold\">       Param # </span>┃\n",
              "┡━━━━━━━━━━━━━━━━━━━━━━━━━━━━━━━━━╇━━━━━━━━━━━━━━━━━━━━━━━━╇━━━━━━━━━━━━━━━┩\n",
              "│ embedding (<span style=\"color: #0087ff; text-decoration-color: #0087ff\">Embedding</span>)           │ ?                      │   <span style=\"color: #00af00; text-decoration-color: #00af00\">0</span> (unbuilt) │\n",
              "├─────────────────────────────────┼────────────────────────┼───────────────┤\n",
              "│ lstm (<span style=\"color: #0087ff; text-decoration-color: #0087ff\">LSTM</span>)                     │ ?                      │   <span style=\"color: #00af00; text-decoration-color: #00af00\">0</span> (unbuilt) │\n",
              "├─────────────────────────────────┼────────────────────────┼───────────────┤\n",
              "│ dense (<span style=\"color: #0087ff; text-decoration-color: #0087ff\">Dense</span>)                   │ ?                      │   <span style=\"color: #00af00; text-decoration-color: #00af00\">0</span> (unbuilt) │\n",
              "├─────────────────────────────────┼────────────────────────┼───────────────┤\n",
              "│ dropout (<span style=\"color: #0087ff; text-decoration-color: #0087ff\">Dropout</span>)               │ ?                      │             <span style=\"color: #00af00; text-decoration-color: #00af00\">0</span> │\n",
              "├─────────────────────────────────┼────────────────────────┼───────────────┤\n",
              "│ dense_1 (<span style=\"color: #0087ff; text-decoration-color: #0087ff\">Dense</span>)                 │ ?                      │   <span style=\"color: #00af00; text-decoration-color: #00af00\">0</span> (unbuilt) │\n",
              "└─────────────────────────────────┴────────────────────────┴───────────────┘\n",
              "</pre>\n"
            ]
          },
          "metadata": {}
        },
        {
          "output_type": "display_data",
          "data": {
            "text/plain": [
              "\u001b[1m Total params: \u001b[0m\u001b[38;5;34m0\u001b[0m (0.00 B)\n"
            ],
            "text/html": [
              "<pre style=\"white-space:pre;overflow-x:auto;line-height:normal;font-family:Menlo,'DejaVu Sans Mono',consolas,'Courier New',monospace\"><span style=\"font-weight: bold\"> Total params: </span><span style=\"color: #00af00; text-decoration-color: #00af00\">0</span> (0.00 B)\n",
              "</pre>\n"
            ]
          },
          "metadata": {}
        },
        {
          "output_type": "display_data",
          "data": {
            "text/plain": [
              "\u001b[1m Trainable params: \u001b[0m\u001b[38;5;34m0\u001b[0m (0.00 B)\n"
            ],
            "text/html": [
              "<pre style=\"white-space:pre;overflow-x:auto;line-height:normal;font-family:Menlo,'DejaVu Sans Mono',consolas,'Courier New',monospace\"><span style=\"font-weight: bold\"> Trainable params: </span><span style=\"color: #00af00; text-decoration-color: #00af00\">0</span> (0.00 B)\n",
              "</pre>\n"
            ]
          },
          "metadata": {}
        },
        {
          "output_type": "display_data",
          "data": {
            "text/plain": [
              "\u001b[1m Non-trainable params: \u001b[0m\u001b[38;5;34m0\u001b[0m (0.00 B)\n"
            ],
            "text/html": [
              "<pre style=\"white-space:pre;overflow-x:auto;line-height:normal;font-family:Menlo,'DejaVu Sans Mono',consolas,'Courier New',monospace\"><span style=\"font-weight: bold\"> Non-trainable params: </span><span style=\"color: #00af00; text-decoration-color: #00af00\">0</span> (0.00 B)\n",
              "</pre>\n"
            ]
          },
          "metadata": {}
        },
        {
          "output_type": "stream",
          "name": "stdout",
          "text": [
            "Epoch 1/10\n",
            "140/140 - 9s - 67ms/step - accuracy: 0.8652 - loss: 0.4388 - val_accuracy: 0.8664 - val_loss: 0.4009\n",
            "Epoch 2/10\n",
            "140/140 - 10s - 70ms/step - accuracy: 0.8658 - loss: 0.4150 - val_accuracy: 0.8664 - val_loss: 0.4043\n",
            "Epoch 3/10\n",
            "140/140 - 11s - 77ms/step - accuracy: 0.8658 - loss: 0.4113 - val_accuracy: 0.8664 - val_loss: 0.3938\n",
            "Epoch 4/10\n",
            "140/140 - 11s - 77ms/step - accuracy: 0.8658 - loss: 0.4082 - val_accuracy: 0.8664 - val_loss: 0.3934\n",
            "Epoch 5/10\n",
            "140/140 - 6s - 42ms/step - accuracy: 0.8658 - loss: 0.4124 - val_accuracy: 0.8664 - val_loss: 0.3944\n",
            "Epoch 6/10\n",
            "140/140 - 11s - 79ms/step - accuracy: 0.8658 - loss: 0.4126 - val_accuracy: 0.8664 - val_loss: 0.3945\n",
            "Epoch 7/10\n",
            "140/140 - 9s - 68ms/step - accuracy: 0.8658 - loss: 0.4093 - val_accuracy: 0.8664 - val_loss: 0.3951\n",
            "Epoch 8/10\n",
            "140/140 - 11s - 75ms/step - accuracy: 0.8658 - loss: 0.4077 - val_accuracy: 0.8664 - val_loss: 0.3933\n",
            "Epoch 9/10\n",
            "140/140 - 7s - 48ms/step - accuracy: 0.8658 - loss: 0.4089 - val_accuracy: 0.8664 - val_loss: 0.3933\n",
            "Epoch 10/10\n",
            "140/140 - 10s - 70ms/step - accuracy: 0.8658 - loss: 0.4068 - val_accuracy: 0.8664 - val_loss: 0.3933\n",
            "\u001b[1m1/1\u001b[0m \u001b[32m━━━━━━━━━━━━━━━━━━━━\u001b[0m\u001b[37m\u001b[0m \u001b[1m0s\u001b[0m 359ms/step\n",
            "\u001b[1m1/1\u001b[0m \u001b[32m━━━━━━━━━━━━━━━━━━━━\u001b[0m\u001b[37m\u001b[0m \u001b[1m0s\u001b[0m 139ms/step\n",
            "Message: 'Congratulations! You've won a free ticket to the Bahamas. Click here to claim your prize.'\n",
            "Prediction: ham (Probability: 0.1368)\n",
            "\n",
            "Message: 'Hey, are you available for a meeting tomorrow at 2 PM?'\n",
            "Prediction: ham (Probability: 0.1368)\n",
            "\n",
            "Running unit tests...\n",
            "\u001b[1m1/1\u001b[0m \u001b[32m━━━━━━━━━━━━━━━━━━━━\u001b[0m\u001b[37m\u001b[0m \u001b[1m0s\u001b[0m 255ms/step\n",
            "All tests passed!\n"
          ]
        }
      ],
      "source": [
        "#\n",
        "# This code is a solution for the freeCodeCamp \"Neural Network SMS Text Classifier\" project.\n",
        "#\n",
        "import pandas as pd\n",
        "import numpy as np\n",
        "import tensorflow as tf\n",
        "from tensorflow.keras.preprocessing.text import Tokenizer\n",
        "from tensorflow.keras.preprocessing.sequence import pad_sequences\n",
        "from tensorflow.keras.models import Sequential\n",
        "from tensorflow.keras.layers import Embedding, LSTM, Dense, Dropout\n",
        "from sklearn.model_selection import train_test_split\n",
        "from sklearn.preprocessing import LabelEncoder\n",
        "import requests\n",
        "import zipfile\n",
        "import io\n",
        "\n",
        "# Step 1: Download and Prepare the Dataset\n",
        "# -------------------------------------------\n",
        "# URL of the dataset\n",
        "url = 'https://archive.ics.uci.edu/ml/machine-learning-databases/00228/smsspamcollection.zip'\n",
        "\n",
        "# Download and extract the file\n",
        "r = requests.get(url)\n",
        "z = zipfile.ZipFile(io.BytesIO(r.content))\n",
        "z.extractall()\n",
        "\n",
        "# Load the dataset into a pandas DataFrame\n",
        "df = pd.read_csv('SMSSpamCollection', sep='\\t', header=None, names=['label', 'message'])\n",
        "\n",
        "# Encode the labels ('ham' -> 0, 'spam' -> 1)\n",
        "encoder = LabelEncoder()\n",
        "df['label_encoded'] = encoder.fit_transform(df['label'])\n",
        "\n",
        "# Get messages and labels\n",
        "messages = df['message'].values\n",
        "labels = df['label_encoded'].values\n",
        "\n",
        "# Split data into training and testing sets\n",
        "X_train, X_test, y_train, y_test = train_test_split(messages, labels, test_size=0.2, random_state=42)\n",
        "\n",
        "# Step 2: Text Vectorization\n",
        "# ----------------------------\n",
        "vocab_size = 5000  # Number of unique words to consider\n",
        "max_length = 100   # Max length of a message\n",
        "embedding_dim = 16 # Dimension for word embedding\n",
        "\n",
        "# Create a tokenizer and fit it on the training data\n",
        "tokenizer = Tokenizer(num_words=vocab_size, oov_token=\"<OOV>\") # <OOV> for out-of-vocabulary words\n",
        "tokenizer.fit_on_texts(X_train)\n",
        "\n",
        "# Convert texts to sequences of integers\n",
        "train_sequences = tokenizer.texts_to_sequences(X_train)\n",
        "test_sequences = tokenizer.texts_to_sequences(X_test)\n",
        "\n",
        "# Pad sequences to ensure they all have the same length\n",
        "train_padded = pad_sequences(train_sequences, maxlen=max_length, padding='post', truncating='post')\n",
        "test_padded = pad_sequences(test_sequences, maxlen=max_length, padding='post', truncating='post')\n",
        "\n",
        "# Step 3: Build the Neural Network Model\n",
        "# ----------------------------------------\n",
        "model = Sequential([\n",
        "    Embedding(vocab_size, embedding_dim, input_length=max_length),\n",
        "    LSTM(64),\n",
        "    Dense(24, activation='relu'),\n",
        "    Dropout(0.5),\n",
        "    Dense(1, activation='sigmoid') # Sigmoid for binary classification\n",
        "])\n",
        "\n",
        "# Compile the model\n",
        "model.compile(loss='binary_crossentropy', optimizer='adam', metrics=['accuracy'])\n",
        "\n",
        "model.summary()\n",
        "\n",
        "# Step 4: Train the Model\n",
        "# -------------------------\n",
        "num_epochs = 10\n",
        "history = model.fit(\n",
        "    train_padded,\n",
        "    y_train,\n",
        "    epochs=num_epochs,\n",
        "    validation_data=(test_padded, y_test),\n",
        "    verbose=2\n",
        ")\n",
        "\n",
        "# Step 5: Create the Prediction Function\n",
        "# ----------------------------------------\n",
        "# This is the function that the freeCodeCamp test will run\n",
        "def predict_message(pred_text):\n",
        "    # Preprocess the input text\n",
        "    new_sequence = tokenizer.texts_to_sequences([pred_text])\n",
        "    padded_sequence = pad_sequences(new_sequence, maxlen=max_length, padding='post', truncating='post')\n",
        "\n",
        "    # Get the model's prediction\n",
        "    prediction = model.predict(padded_sequence)[0][0]\n",
        "\n",
        "    # Determine the label\n",
        "    if prediction >= 0.5:\n",
        "        label = \"spam\"\n",
        "    else:\n",
        "        label = \"ham\"\n",
        "\n",
        "    return [prediction, label]\n",
        "\n",
        "# Step 6: Test the function\n",
        "# ---------------------------\n",
        "# Create a test message\n",
        "test_message_1 = \"Congratulations! You've won a free ticket to the Bahamas. Click here to claim your prize.\"\n",
        "test_message_2 = \"Hey, are you available for a meeting tomorrow at 2 PM?\"\n",
        "\n",
        "prediction_1 = predict_message(test_message_1)\n",
        "prediction_2 = predict_message(test_message_2)\n",
        "\n",
        "print(f\"Message: '{test_message_1}'\")\n",
        "print(f\"Prediction: {prediction_1[1]} (Probability: {prediction_1[0]:.4f})\\n\")\n",
        "\n",
        "print(f\"Message: '{test_message_2}'\")\n",
        "print(f\"Prediction: {prediction_2[1]} (Probability: {prediction_2[0]:.4f})\")\n",
        "\n",
        "# Run this cell in Colab to test your function\n",
        "# The test function from freeCodeCamp will call the `predict_message` function\n",
        "def test_predict_message():\n",
        "  pred_text = \"how are you doing today?\"\n",
        "  prediction = predict_message(pred_text)\n",
        "  assert(type(prediction) == list), \"predication should be a list\"\n",
        "  assert(len(prediction) == 2), \"prediction list should have 2 elements\"\n",
        "  assert(type(prediction[0]) == np.float32), \"prediction should be a float\"\n",
        "  assert(prediction[0] <= 1 and prediction[0] >= 0), \"prediction should be a value between 0 and 1\"\n",
        "  assert(prediction[1] in [\"ham\", \"spam\"]), \"prediction result should be 'ham' or 'spam'\"\n",
        "  return \"All tests passed!\"\n",
        "\n",
        "print(\"\\nRunning unit tests...\")\n",
        "print(test_predict_message())"
      ]
    }
  ]
}